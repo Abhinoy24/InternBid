{
 "cells": [
  {
   "cell_type": "code",
   "execution_count": 2,
   "metadata": {},
   "outputs": [],
   "source": [
    "import pandas as pd"
   ]
  },
  {
   "cell_type": "code",
   "execution_count": 3,
   "metadata": {},
   "outputs": [],
   "source": [
    "space_org = {'Organisation_name' : ['ISRO','NASA','JAXA','CNSA','CNESS'],\n",
    "             'Headquarters' : ['Banglore','Washington','Tokyo','Beijing','Paris'],\n",
    "             'Country': ['India','USA','Japan','China','France'],\n",
    "             'Formation Year': [1969,1958,2003,1998,1961] }\n"
   ]
  },
  {
   "cell_type": "code",
   "execution_count": 4,
   "metadata": {},
   "outputs": [],
   "source": [
    "space_org_df = pd.DataFrame(space_org)"
   ]
  },
  {
   "cell_type": "code",
   "execution_count": 5,
   "metadata": {},
   "outputs": [
    {
     "data": {
      "text/html": [
       "<div>\n",
       "<style scoped>\n",
       "    .dataframe tbody tr th:only-of-type {\n",
       "        vertical-align: middle;\n",
       "    }\n",
       "\n",
       "    .dataframe tbody tr th {\n",
       "        vertical-align: top;\n",
       "    }\n",
       "\n",
       "    .dataframe thead th {\n",
       "        text-align: right;\n",
       "    }\n",
       "</style>\n",
       "<table border=\"1\" class=\"dataframe\">\n",
       "  <thead>\n",
       "    <tr style=\"text-align: right;\">\n",
       "      <th></th>\n",
       "      <th>Organisation_name</th>\n",
       "      <th>Headquarters</th>\n",
       "      <th>Country</th>\n",
       "      <th>Formation Year</th>\n",
       "    </tr>\n",
       "  </thead>\n",
       "  <tbody>\n",
       "    <tr>\n",
       "      <th>0</th>\n",
       "      <td>ISRO</td>\n",
       "      <td>Banglore</td>\n",
       "      <td>India</td>\n",
       "      <td>1969</td>\n",
       "    </tr>\n",
       "    <tr>\n",
       "      <th>1</th>\n",
       "      <td>NASA</td>\n",
       "      <td>Washington</td>\n",
       "      <td>USA</td>\n",
       "      <td>1958</td>\n",
       "    </tr>\n",
       "    <tr>\n",
       "      <th>2</th>\n",
       "      <td>JAXA</td>\n",
       "      <td>Tokyo</td>\n",
       "      <td>Japan</td>\n",
       "      <td>2003</td>\n",
       "    </tr>\n",
       "    <tr>\n",
       "      <th>3</th>\n",
       "      <td>CNSA</td>\n",
       "      <td>Beijing</td>\n",
       "      <td>China</td>\n",
       "      <td>1998</td>\n",
       "    </tr>\n",
       "    <tr>\n",
       "      <th>4</th>\n",
       "      <td>CNESS</td>\n",
       "      <td>Paris</td>\n",
       "      <td>France</td>\n",
       "      <td>1961</td>\n",
       "    </tr>\n",
       "  </tbody>\n",
       "</table>\n",
       "</div>"
      ],
      "text/plain": [
       "  Organisation_name Headquarters Country  Formation Year\n",
       "0              ISRO     Banglore   India            1969\n",
       "1              NASA   Washington     USA            1958\n",
       "2              JAXA        Tokyo   Japan            2003\n",
       "3              CNSA      Beijing   China            1998\n",
       "4             CNESS        Paris  France            1961"
      ]
     },
     "execution_count": 5,
     "metadata": {},
     "output_type": "execute_result"
    }
   ],
   "source": [
    "space_org_df"
   ]
  },
  {
   "cell_type": "code",
   "execution_count": 7,
   "metadata": {},
   "outputs": [
    {
     "name": "stdout",
     "output_type": "stream",
     "text": [
      "Pandas(Index=0, Organisation_name='ISRO', Headquarters='Banglore', Country='India', _4=1969)\n",
      "Pandas(Index=1, Organisation_name='NASA', Headquarters='Washington', Country='USA', _4=1958)\n",
      "Pandas(Index=2, Organisation_name='JAXA', Headquarters='Tokyo', Country='Japan', _4=2003)\n",
      "Pandas(Index=3, Organisation_name='CNSA', Headquarters='Beijing', Country='China', _4=1998)\n",
      "Pandas(Index=4, Organisation_name='CNESS', Headquarters='Paris', Country='France', _4=1961)\n"
     ]
    }
   ],
   "source": [
    "for row in space_org_df.itertuples():\n",
    "    print(row)"
   ]
  },
  {
   "cell_type": "code",
   "execution_count": 8,
   "metadata": {},
   "outputs": [
    {
     "name": "stdout",
     "output_type": "stream",
     "text": [
      "(0, Organisation_name        ISRO\n",
      "Headquarters         Banglore\n",
      "Country                 India\n",
      "Formation Year           1969\n",
      "Name: 0, dtype: object)\n",
      "(1, Organisation_name          NASA\n",
      "Headquarters         Washington\n",
      "Country                     USA\n",
      "Formation Year             1958\n",
      "Name: 1, dtype: object)\n",
      "(2, Organisation_name     JAXA\n",
      "Headquarters         Tokyo\n",
      "Country              Japan\n",
      "Formation Year        2003\n",
      "Name: 2, dtype: object)\n",
      "(3, Organisation_name       CNSA\n",
      "Headquarters         Beijing\n",
      "Country                China\n",
      "Formation Year          1998\n",
      "Name: 3, dtype: object)\n",
      "(4, Organisation_name     CNESS\n",
      "Headquarters          Paris\n",
      "Country              France\n",
      "Formation Year         1961\n",
      "Name: 4, dtype: object)\n"
     ]
    }
   ],
   "source": [
    "for row in space_org_df.iterrows():\n",
    "    print(row)"
   ]
  },
  {
   "cell_type": "code",
   "execution_count": 10,
   "metadata": {},
   "outputs": [
    {
     "name": "stdout",
     "output_type": "stream",
     "text": [
      "0\n",
      "Organisation_name        ISRO\n",
      "Headquarters         Banglore\n",
      "Country                 India\n",
      "Formation Year           1969\n",
      "Name: 0, dtype: object\n",
      "1\n",
      "Organisation_name          NASA\n",
      "Headquarters         Washington\n",
      "Country                     USA\n",
      "Formation Year             1958\n",
      "Name: 1, dtype: object\n",
      "2\n",
      "Organisation_name     JAXA\n",
      "Headquarters         Tokyo\n",
      "Country              Japan\n",
      "Formation Year        2003\n",
      "Name: 2, dtype: object\n",
      "3\n",
      "Organisation_name       CNSA\n",
      "Headquarters         Beijing\n",
      "Country                China\n",
      "Formation Year          1998\n",
      "Name: 3, dtype: object\n",
      "4\n",
      "Organisation_name     CNESS\n",
      "Headquarters          Paris\n",
      "Country              France\n",
      "Formation Year         1961\n",
      "Name: 4, dtype: object\n"
     ]
    }
   ],
   "source": [
    "for row_index,row in space_org_df.iterrows():\n",
    "    print(row_index)\n",
    "    print(row)\n",
    "    "
   ]
  },
  {
   "cell_type": "code",
   "execution_count": 11,
   "metadata": {},
   "outputs": [
    {
     "name": "stdout",
     "output_type": "stream",
     "text": [
      "Key Value : Organisation_name\n",
      "0     ISRO\n",
      "1     NASA\n",
      "2     JAXA\n",
      "3     CNSA\n",
      "4    CNESS\n",
      "Name: Organisation_name, dtype: object\n",
      "Key Value : Headquarters\n",
      "0      Banglore\n",
      "1    Washington\n",
      "2         Tokyo\n",
      "3       Beijing\n",
      "4         Paris\n",
      "Name: Headquarters, dtype: object\n",
      "Key Value : Country\n",
      "0     India\n",
      "1       USA\n",
      "2     Japan\n",
      "3     China\n",
      "4    France\n",
      "Name: Country, dtype: object\n",
      "Key Value : Formation Year\n",
      "0    1969\n",
      "1    1958\n",
      "2    2003\n",
      "3    1998\n",
      "4    1961\n",
      "Name: Formation Year, dtype: int64\n"
     ]
    }
   ],
   "source": [
    "for key,item in space_org_df.iteritems():\n",
    "    print('Key Value :',key)\n",
    "    print(item)"
   ]
  },
  {
   "cell_type": "code",
   "execution_count": 12,
   "metadata": {},
   "outputs": [
    {
     "name": "stdout",
     "output_type": "stream",
     "text": [
      "('Organisation_name', 0     ISRO\n",
      "1     NASA\n",
      "2     JAXA\n",
      "3     CNSA\n",
      "4    CNESS\n",
      "Name: Organisation_name, dtype: object)\n",
      "('Headquarters', 0      Banglore\n",
      "1    Washington\n",
      "2         Tokyo\n",
      "3       Beijing\n",
      "4         Paris\n",
      "Name: Headquarters, dtype: object)\n",
      "('Country', 0     India\n",
      "1       USA\n",
      "2     Japan\n",
      "3     China\n",
      "4    France\n",
      "Name: Country, dtype: object)\n",
      "('Formation Year', 0    1969\n",
      "1    1958\n",
      "2    2003\n",
      "3    1998\n",
      "4    1961\n",
      "Name: Formation Year, dtype: int64)\n"
     ]
    }
   ],
   "source": [
    "for values in space_org_df.iteritems():\n",
    "    print(values)"
   ]
  },
  {
   "cell_type": "code",
   "execution_count": null,
   "metadata": {},
   "outputs": [],
   "source": []
  }
 ],
 "metadata": {
  "kernelspec": {
   "display_name": "Python 3",
   "language": "python",
   "name": "python3"
  },
  "language_info": {
   "codemirror_mode": {
    "name": "ipython",
    "version": 3
   },
   "file_extension": ".py",
   "mimetype": "text/x-python",
   "name": "python",
   "nbconvert_exporter": "python",
   "pygments_lexer": "ipython3",
   "version": "3.7.2"
  }
 },
 "nbformat": 4,
 "nbformat_minor": 2
}
