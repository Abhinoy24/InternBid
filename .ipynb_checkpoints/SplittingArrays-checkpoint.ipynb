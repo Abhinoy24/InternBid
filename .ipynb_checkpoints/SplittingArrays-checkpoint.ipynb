{
 "cells": [
  {
   "cell_type": "code",
   "execution_count": 1,
   "metadata": {},
   "outputs": [],
   "source": [
    "import numpy as np\n"
   ]
  },
  {
   "cell_type": "code",
   "execution_count": 2,
   "metadata": {},
   "outputs": [
    {
     "data": {
      "text/plain": [
       "array([ 0,  1,  2,  3,  4,  5,  6,  7,  8,  9, 10, 11])"
      ]
     },
     "execution_count": 2,
     "metadata": {},
     "output_type": "execute_result"
    }
   ],
   "source": [
    "a = np.arange(12)\n",
    "a"
   ]
  },
  {
   "cell_type": "code",
   "execution_count": 4,
   "metadata": {},
   "outputs": [
    {
     "name": "stdout",
     "output_type": "stream",
     "text": [
      "Splitting the arrays into 3 subarray:\n"
     ]
    },
    {
     "data": {
      "text/plain": [
       "[array([0, 1, 2, 3]), array([4, 5, 6, 7]), array([ 8,  9, 10, 11])]"
      ]
     },
     "execution_count": 4,
     "metadata": {},
     "output_type": "execute_result"
    }
   ],
   "source": [
    "print(\"Splitting the arrays into 3 subarray:\")\n",
    "np.split(a,3)"
   ]
  },
  {
   "cell_type": "code",
   "execution_count": 5,
   "metadata": {},
   "outputs": [
    {
     "name": "stdout",
     "output_type": "stream",
     "text": [
      "Split the array at positions indicated in 1-D array:\n"
     ]
    },
    {
     "data": {
      "text/plain": [
       "[array([0, 1, 2, 3]), array([4, 5, 6, 7]), array([ 8,  9, 10, 11])]"
      ]
     },
     "execution_count": 5,
     "metadata": {},
     "output_type": "execute_result"
    }
   ],
   "source": [
    "print(\"Split the array at positions indicated in 1-D array:\")\n",
    "np.split(a,[4,8])"
   ]
  },
  {
   "cell_type": "code",
   "execution_count": 10,
   "metadata": {},
   "outputs": [
    {
     "data": {
      "text/plain": [
       "array([['India', 'China', 'UK', 'USA', 'France', 'Japan'],\n",
       "       ['New Delhi', 'Bejing', 'London', 'WashingtonDC', 'Paris',\n",
       "        'Tokyo']], dtype='<U12')"
      ]
     },
     "execution_count": 10,
     "metadata": {},
     "output_type": "execute_result"
    }
   ],
   "source": [
    "b = np.array([(\"India\",\"China\",\"UK\",\"USA\",\"France\",\"Japan\"),\n",
    "              (\"New Delhi\",\"Bejing\",\"London\",\"WashingtonDC\",\"Paris\",\"Tokyo\")])\n",
    "b"
   ]
  },
  {
   "cell_type": "code",
   "execution_count": 14,
   "metadata": {},
   "outputs": [],
   "source": [
    "h1, h2 = np.hsplit(b,2)"
   ]
  },
  {
   "cell_type": "code",
   "execution_count": 15,
   "metadata": {},
   "outputs": [
    {
     "name": "stdout",
     "output_type": "stream",
     "text": [
      "[['India' 'China' 'UK']\n",
      " ['New Delhi' 'Bejing' 'London']]\n"
     ]
    }
   ],
   "source": [
    "print(h1)"
   ]
  },
  {
   "cell_type": "code",
   "execution_count": 16,
   "metadata": {},
   "outputs": [
    {
     "name": "stdout",
     "output_type": "stream",
     "text": [
      "[['USA' 'France' 'Japan']\n",
      " ['WashingtonDC' 'Paris' 'Tokyo']]\n"
     ]
    }
   ],
   "source": [
    "print(h2)"
   ]
  },
  {
   "cell_type": "code",
   "execution_count": 22,
   "metadata": {},
   "outputs": [
    {
     "data": {
      "text/plain": [
       "[array([['India', 'China'],\n",
       "        ['New Delhi', 'Bejing']], dtype='<U12'), array([['UK', 'USA'],\n",
       "        ['London', 'WashingtonDC']], dtype='<U12'), array([['France', 'Japan'],\n",
       "        ['Paris', 'Tokyo']], dtype='<U12')]"
      ]
     },
     "execution_count": 22,
     "metadata": {},
     "output_type": "execute_result"
    }
   ],
   "source": [
    "np.hsplit(b,3)"
   ]
  },
  {
   "cell_type": "code",
   "execution_count": 30,
   "metadata": {},
   "outputs": [],
   "source": [
    "v1, v2 = np.vsplit(b,2)"
   ]
  },
  {
   "cell_type": "code",
   "execution_count": 31,
   "metadata": {},
   "outputs": [
    {
     "name": "stdout",
     "output_type": "stream",
     "text": [
      "[['India' 'China' 'UK' 'USA' 'France' 'Japan']]\n"
     ]
    }
   ],
   "source": [
    "print(v1)"
   ]
  },
  {
   "cell_type": "code",
   "execution_count": 32,
   "metadata": {},
   "outputs": [
    {
     "name": "stdout",
     "output_type": "stream",
     "text": [
      "[['New Delhi' 'Bejing' 'London' 'WashingtonDC' 'Paris' 'Tokyo']]\n"
     ]
    }
   ],
   "source": [
    "print(v2)"
   ]
  },
  {
   "cell_type": "code",
   "execution_count": 33,
   "metadata": {},
   "outputs": [],
   "source": [
    "countries, capital = b"
   ]
  },
  {
   "cell_type": "code",
   "execution_count": 34,
   "metadata": {},
   "outputs": [
    {
     "name": "stdout",
     "output_type": "stream",
     "text": [
      "Countries: ['India' 'China' 'UK' 'USA' 'France' 'Japan']\n",
      "Capital: ['New Delhi' 'Bejing' 'London' 'WashingtonDC' 'Paris' 'Tokyo']\n"
     ]
    }
   ],
   "source": [
    "print(\"Countries:\",countries)\n",
    "print(\"Capital:\", capital)"
   ]
  },
  {
   "cell_type": "code",
   "execution_count": 35,
   "metadata": {},
   "outputs": [],
   "source": [
    "b1,b2,b3,b4,b5,b6 = b.T\n"
   ]
  },
  {
   "cell_type": "code",
   "execution_count": 37,
   "metadata": {},
   "outputs": [
    {
     "name": "stdout",
     "output_type": "stream",
     "text": [
      "b1:\n",
      "['India' 'New Delhi']\n",
      "b2:\n",
      "['China' 'Bejing']\n",
      "b3:\n",
      "['UK' 'London']\n",
      "b4:\n",
      "['USA' 'WashingtonDC']\n",
      "b5:\n",
      "['France' 'Paris']\n",
      "b6:\n",
      "['Japan' 'Tokyo']\n"
     ]
    }
   ],
   "source": [
    "print(\"b1:\")\n",
    "print(b1)\n",
    "print(\"b2:\")\n",
    "print(b2)\n",
    "print(\"b3:\")\n",
    "print(b3)\n",
    "print(\"b4:\")\n",
    "print(b4)\n",
    "print(\"b5:\")\n",
    "print(b5)\n",
    "print(\"b6:\")\n",
    "print(b6)\n",
    "\n"
   ]
  },
  {
   "cell_type": "code",
   "execution_count": null,
   "metadata": {},
   "outputs": [],
   "source": []
  }
 ],
 "metadata": {
  "kernelspec": {
   "display_name": "Python 3",
   "language": "python",
   "name": "python3"
  },
  "language_info": {
   "codemirror_mode": {
    "name": "ipython",
    "version": 3
   },
   "file_extension": ".py",
   "mimetype": "text/x-python",
   "name": "python",
   "nbconvert_exporter": "python",
   "pygments_lexer": "ipython3",
   "version": "3.7.2"
  }
 },
 "nbformat": 4,
 "nbformat_minor": 2
}
