{
 "cells": [
  {
   "cell_type": "code",
   "execution_count": 2,
   "metadata": {},
   "outputs": [],
   "source": [
    "import pandas as pd"
   ]
  },
  {
   "cell_type": "code",
   "execution_count": 4,
   "metadata": {},
   "outputs": [],
   "source": [
    "automobile_df = pd.DataFrame({'car_name':[\"Audi 100 LS\",\"Mercedez Benz\",\"BWM X5\",\"Toyota Corolla Mark ii \",\n",
    "                                          \"Mahindra XUV500\",\"Lamborghini Veneno\"],\n",
    "                             'mpg' : [24,20,20,21,12,13],\n",
    "                             'horsepower' : [113,240,300,211,99,544],\n",
    "                             'origincountry' : [\"Germany\",\"Germany\",\"Germany\",\"Japan\",\"India\",\"Italy\"]\n",
    "                             })"
   ]
  },
  {
   "cell_type": "code",
   "execution_count": 5,
   "metadata": {},
   "outputs": [
    {
     "data": {
      "text/html": [
       "<div>\n",
       "<style scoped>\n",
       "    .dataframe tbody tr th:only-of-type {\n",
       "        vertical-align: middle;\n",
       "    }\n",
       "\n",
       "    .dataframe tbody tr th {\n",
       "        vertical-align: top;\n",
       "    }\n",
       "\n",
       "    .dataframe thead th {\n",
       "        text-align: right;\n",
       "    }\n",
       "</style>\n",
       "<table border=\"1\" class=\"dataframe\">\n",
       "  <thead>\n",
       "    <tr style=\"text-align: right;\">\n",
       "      <th></th>\n",
       "      <th>car_name</th>\n",
       "      <th>mpg</th>\n",
       "      <th>horsepower</th>\n",
       "      <th>origincountry</th>\n",
       "    </tr>\n",
       "  </thead>\n",
       "  <tbody>\n",
       "    <tr>\n",
       "      <th>0</th>\n",
       "      <td>Audi 100 LS</td>\n",
       "      <td>24</td>\n",
       "      <td>113</td>\n",
       "      <td>Germany</td>\n",
       "    </tr>\n",
       "    <tr>\n",
       "      <th>1</th>\n",
       "      <td>Mercedez Benz</td>\n",
       "      <td>20</td>\n",
       "      <td>240</td>\n",
       "      <td>Germany</td>\n",
       "    </tr>\n",
       "    <tr>\n",
       "      <th>2</th>\n",
       "      <td>BWM X5</td>\n",
       "      <td>20</td>\n",
       "      <td>300</td>\n",
       "      <td>Germany</td>\n",
       "    </tr>\n",
       "    <tr>\n",
       "      <th>3</th>\n",
       "      <td>Toyota Corolla Mark ii</td>\n",
       "      <td>21</td>\n",
       "      <td>211</td>\n",
       "      <td>Japan</td>\n",
       "    </tr>\n",
       "    <tr>\n",
       "      <th>4</th>\n",
       "      <td>Mahindra XUV500</td>\n",
       "      <td>12</td>\n",
       "      <td>99</td>\n",
       "      <td>India</td>\n",
       "    </tr>\n",
       "    <tr>\n",
       "      <th>5</th>\n",
       "      <td>Lamborghini Veneno</td>\n",
       "      <td>13</td>\n",
       "      <td>544</td>\n",
       "      <td>Italy</td>\n",
       "    </tr>\n",
       "  </tbody>\n",
       "</table>\n",
       "</div>"
      ],
      "text/plain": [
       "                  car_name  mpg  horsepower origincountry\n",
       "0              Audi 100 LS   24         113       Germany\n",
       "1            Mercedez Benz   20         240       Germany\n",
       "2                   BWM X5   20         300       Germany\n",
       "3  Toyota Corolla Mark ii    21         211         Japan\n",
       "4          Mahindra XUV500   12          99         India\n",
       "5       Lamborghini Veneno   13         544         Italy"
      ]
     },
     "execution_count": 5,
     "metadata": {},
     "output_type": "execute_result"
    }
   ],
   "source": [
    "automobile_df"
   ]
  },
  {
   "cell_type": "code",
   "execution_count": 6,
   "metadata": {},
   "outputs": [
    {
     "name": "stdout",
     "output_type": "stream",
     "text": [
      "EXPORT to csv successful\n"
     ]
    }
   ],
   "source": [
    "automobile_df.to_csv('new_automobile.csv')\n",
    "print(\"EXPORT to csv successful\")"
   ]
  },
  {
   "cell_type": "code",
   "execution_count": 7,
   "metadata": {},
   "outputs": [
    {
     "name": "stdout",
     "output_type": "stream",
     "text": [
      "EXport to CSV succesful\n"
     ]
    }
   ],
   "source": [
    "automobile_df.to_csv('new_automobile_wi.csv',index=False)\n",
    "print(\"EXport to CSV succesful\")"
   ]
  },
  {
   "cell_type": "code",
   "execution_count": 8,
   "metadata": {},
   "outputs": [
    {
     "data": {
      "text/plain": [
       "Index(['car_name', 'mpg', 'horsepower', 'origincountry'], dtype='object')"
      ]
     },
     "execution_count": 8,
     "metadata": {},
     "output_type": "execute_result"
    }
   ],
   "source": [
    "automobile_df.columns"
   ]
  },
  {
   "cell_type": "code",
   "execution_count": 9,
   "metadata": {},
   "outputs": [
    {
     "name": "stdout",
     "output_type": "stream",
     "text": [
      "EXPORT TO CSV SUCCESSFUL\n"
     ]
    }
   ],
   "source": [
    "conda install openpyxlautomobile_df.to_csv('new_automobile_wi.csv',columns=[\"car_name\",\"mpg\",\"horsepower\",\"origincountry\"])\n",
    "print(\"EXPORT TO CSV SUCCESSFUL\")"
   ]
  },
  {
   "cell_type": "code",
   "execution_count": 11,
   "metadata": {},
   "outputs": [
    {
     "name": "stdout",
     "output_type": "stream",
     "text": [
      "EXPORT TO CSV SUCCESSFUL\n"
     ]
    }
   ],
   "source": [
    "automobile_df.to_excel('new_automobile.xlsx',\n",
    "                       sheet_name=\"automobile\",\n",
    "                       index=False)\n",
    "print(\"EXPORT TO CSV SUCCESSFUL\")"
   ]
  },
  {
   "cell_type": "code",
   "execution_count": 12,
   "metadata": {},
   "outputs": [],
   "source": [
    "camera_df = pd.DataFrame({'model' : [\"Canon EOS 3000D Kit (EF S18-55 II)\",\n",
    "                                     \"Fujifilm X-E3\",\n",
    "                                     \"Panasonic Lumix DC-GH5S\",\n",
    "                                     \"Canon EOS 6D Mark II\",\n",
    "                                     \"Nikon D5\",\n",
    "                                     \"Nikon D500\"],\n",
    "                         'max_resolution' : [2592,3072,3648,3264,3228,3668],\n",
    "                         'low_resolution' : [2048,2592,2560,2558,2624,2570],\n",
    "                         'zoom_width' : [38,35,36,39,31,40],\n",
    "                         'storage': [16,16,32,32,32,64]})"
   ]
  },
  {
   "cell_type": "code",
   "execution_count": 13,
   "metadata": {},
   "outputs": [
    {
     "data": {
      "text/html": [
       "<div>\n",
       "<style scoped>\n",
       "    .dataframe tbody tr th:only-of-type {\n",
       "        vertical-align: middle;\n",
       "    }\n",
       "\n",
       "    .dataframe tbody tr th {\n",
       "        vertical-align: top;\n",
       "    }\n",
       "\n",
       "    .dataframe thead th {\n",
       "        text-align: right;\n",
       "    }\n",
       "</style>\n",
       "<table border=\"1\" class=\"dataframe\">\n",
       "  <thead>\n",
       "    <tr style=\"text-align: right;\">\n",
       "      <th></th>\n",
       "      <th>model</th>\n",
       "      <th>max_resolution</th>\n",
       "      <th>low_resolution</th>\n",
       "      <th>zoom_width</th>\n",
       "      <th>storage</th>\n",
       "    </tr>\n",
       "  </thead>\n",
       "  <tbody>\n",
       "    <tr>\n",
       "      <th>0</th>\n",
       "      <td>Canon EOS 3000D Kit (EF S18-55 II)</td>\n",
       "      <td>2592</td>\n",
       "      <td>2048</td>\n",
       "      <td>38</td>\n",
       "      <td>16</td>\n",
       "    </tr>\n",
       "    <tr>\n",
       "      <th>1</th>\n",
       "      <td>Fujifilm X-E3</td>\n",
       "      <td>3072</td>\n",
       "      <td>2592</td>\n",
       "      <td>35</td>\n",
       "      <td>16</td>\n",
       "    </tr>\n",
       "    <tr>\n",
       "      <th>2</th>\n",
       "      <td>Panasonic Lumix DC-GH5S</td>\n",
       "      <td>3648</td>\n",
       "      <td>2560</td>\n",
       "      <td>36</td>\n",
       "      <td>32</td>\n",
       "    </tr>\n",
       "    <tr>\n",
       "      <th>3</th>\n",
       "      <td>Canon EOS 6D Mark II</td>\n",
       "      <td>3264</td>\n",
       "      <td>2558</td>\n",
       "      <td>39</td>\n",
       "      <td>32</td>\n",
       "    </tr>\n",
       "    <tr>\n",
       "      <th>4</th>\n",
       "      <td>Nikon D5</td>\n",
       "      <td>3228</td>\n",
       "      <td>2624</td>\n",
       "      <td>31</td>\n",
       "      <td>32</td>\n",
       "    </tr>\n",
       "    <tr>\n",
       "      <th>5</th>\n",
       "      <td>Nikon D500</td>\n",
       "      <td>3668</td>\n",
       "      <td>2570</td>\n",
       "      <td>40</td>\n",
       "      <td>64</td>\n",
       "    </tr>\n",
       "  </tbody>\n",
       "</table>\n",
       "</div>"
      ],
      "text/plain": [
       "                                model  max_resolution  low_resolution  \\\n",
       "0  Canon EOS 3000D Kit (EF S18-55 II)            2592            2048   \n",
       "1                       Fujifilm X-E3            3072            2592   \n",
       "2             Panasonic Lumix DC-GH5S            3648            2560   \n",
       "3                Canon EOS 6D Mark II            3264            2558   \n",
       "4                            Nikon D5            3228            2624   \n",
       "5                          Nikon D500            3668            2570   \n",
       "\n",
       "   zoom_width  storage  \n",
       "0          38       16  \n",
       "1          35       16  \n",
       "2          36       32  \n",
       "3          39       32  \n",
       "4          31       32  \n",
       "5          40       64  "
      ]
     },
     "execution_count": 13,
     "metadata": {},
     "output_type": "execute_result"
    }
   ],
   "source": [
    "camera_df"
   ]
  },
  {
   "cell_type": "code",
   "execution_count": 14,
   "metadata": {},
   "outputs": [
    {
     "name": "stdout",
     "output_type": "stream",
     "text": [
      "Export to Excel Succesful\n"
     ]
    }
   ],
   "source": [
    "with pd.ExcelWriter('automobile_camera.xlsx') as writer:\n",
    "    automobile_df.to_excel(writer,sheet_name=\"Automobile\")\n",
    "    camera_df.to_excel(writer,sheet_name=\"Camera\")\n",
    "print(\"Export to Excel Succesful\")"
   ]
  },
  {
   "cell_type": "code",
   "execution_count": null,
   "metadata": {},
   "outputs": [],
   "source": []
  }
 ],
 "metadata": {
  "kernelspec": {
   "display_name": "Python 3",
   "language": "python",
   "name": "python3"
  },
  "language_info": {
   "codemirror_mode": {
    "name": "ipython",
    "version": 3
   },
   "file_extension": ".py",
   "mimetype": "text/x-python",
   "name": "python",
   "nbconvert_exporter": "python",
   "pygments_lexer": "ipython3",
   "version": "3.7.2"
  }
 },
 "nbformat": 4,
 "nbformat_minor": 2
}
